{
 "cells": [
  {
   "cell_type": "code",
   "execution_count": 1,
   "id": "1daf11b6-3b88-4b03-8cb6-43c804ffa446",
   "metadata": {},
   "outputs": [
    {
     "data": {
      "text/plain": [
       "\"\\nBagging attempts to reduce the chance of overfitting complex models. It trains a large number of “strong” learners in parallel.\\nA strong learner is a model that's relatively unconstrained.\\nBagging then combines all the strong learners together in order to “smooth out” their predictions.\\n\""
      ]
     },
     "execution_count": 1,
     "metadata": {},
     "output_type": "execute_result"
    }
   ],
   "source": [
    "## Q No. 1 :\n",
    "\"\"\"\n",
    "Bagging attempts to reduce the chance of overfitting complex models. It trains a large number of “strong” learners in parallel.\n",
    "A strong learner is a model that's relatively unconstrained.\n",
    "Bagging then combines all the strong learners together in order to “smooth out” their predictions.\n",
    "\"\"\""
   ]
  },
  {
   "cell_type": "code",
   "execution_count": 2,
   "id": "f09e2fa2-51f9-400c-a96a-7baf5ce5ec5c",
   "metadata": {},
   "outputs": [
    {
     "data": {
      "text/plain": [
       "'\\nBagging offers the advantage of allowing many weak learners to combine efforts to outdo a single strong learner. \\nIt also helps in the reduction of variance, hence eliminating the overfitting of models in the procedure.\\nOne disadvantage of bagging is that it introduces a loss of interpretability of a model.\\n'"
      ]
     },
     "execution_count": 2,
     "metadata": {},
     "output_type": "execute_result"
    }
   ],
   "source": [
    "## Q No. 2 :\n",
    "\"\"\"\n",
    "Bagging offers the advantage of allowing many weak learners to combine efforts to outdo a single strong learner. \n",
    "It also helps in the reduction of variance, hence eliminating the overfitting of models in the procedure.\n",
    "One disadvantage of bagging is that it introduces a loss of interpretability of a model.\n",
    "\"\"\""
   ]
  },
  {
   "cell_type": "code",
   "execution_count": 3,
   "id": "0fe3eb90-356f-4501-9a93-019c0474df59",
   "metadata": {},
   "outputs": [
    {
     "data": {
      "text/plain": [
       "'\\nThe Bias-Variance Tradeoff:\\nWhen we modify the ML algorithm to better fit a given data set, it will in turn lead to low bias but \\nwill increase the variance. \\nThis way, the model will fit with the data set while increasing the chances of inaccurate predictions.\\n'"
      ]
     },
     "execution_count": 3,
     "metadata": {},
     "output_type": "execute_result"
    }
   ],
   "source": [
    "## Q No. 3 :\n",
    "\"\"\"\n",
    "The Bias-Variance Tradeoff:\n",
    "When we modify the ML algorithm to better fit a given data set, it will in turn lead to low bias but \n",
    "will increase the variance. \n",
    "This way, the model will fit with the data set while increasing the chances of inaccurate predictions.\n",
    "\"\"\""
   ]
  },
  {
   "cell_type": "code",
   "execution_count": 4,
   "id": "ca8ac832-448a-414d-8bb5-e0a8f286e2a5",
   "metadata": {},
   "outputs": [
    {
     "data": {
      "text/plain": [
       "'\\nBagging avoids overfitting of data and is used for both regression and classification models, \\nspecifically for decision tree algorithms.\\n'"
      ]
     },
     "execution_count": 4,
     "metadata": {},
     "output_type": "execute_result"
    }
   ],
   "source": [
    "## Q No. 4 :\n",
    "\"\"\"\n",
    "Bagging avoids overfitting of data and is used for both regression and classification models, \n",
    "specifically for decision tree algorithms.\n",
    "\"\"\""
   ]
  },
  {
   "cell_type": "code",
   "execution_count": 5,
   "id": "907bb702-c62a-4e8c-8bee-2cc7cfc26f6b",
   "metadata": {},
   "outputs": [
    {
     "data": {
      "text/plain": [
       "'\\nThere are no restrictions/guidelines on the number of models. You can start even from 3 models. \\nYou can keep the number of models as a hyperparameter if the training cost is less.\\n'"
      ]
     },
     "execution_count": 5,
     "metadata": {},
     "output_type": "execute_result"
    }
   ],
   "source": [
    "## Q No. 5 :\n",
    "\"\"\"\n",
    "There are no restrictions/guidelines on the number of models. You can start even from 3 models. \n",
    "You can keep the number of models as a hyperparameter if the training cost is less.\n",
    "\"\"\""
   ]
  },
  {
   "cell_type": "code",
   "execution_count": 6,
   "id": "276bd102-fc46-406d-aa6d-2a537eebc264",
   "metadata": {},
   "outputs": [
    {
     "data": {
      "text/plain": [
       "'\\nAn example of application of the bagging method would be to create a model that predicts whether or not a customer will churn.\\nThis could be done by training several different models using different data sets\\nand then averaging their predictions together.\\n'"
      ]
     },
     "execution_count": 6,
     "metadata": {},
     "output_type": "execute_result"
    }
   ],
   "source": [
    "## Q No. 6 :\n",
    "\"\"\"\n",
    "An example of application of the bagging method would be to create a model that predicts whether or not a customer will churn.\n",
    "This could be done by training several different models using different data sets\n",
    "and then averaging their predictions together.\n",
    "\"\"\""
   ]
  }
 ],
 "metadata": {
  "kernelspec": {
   "display_name": "Python 3 (ipykernel)",
   "language": "python",
   "name": "python3"
  },
  "language_info": {
   "codemirror_mode": {
    "name": "ipython",
    "version": 3
   },
   "file_extension": ".py",
   "mimetype": "text/x-python",
   "name": "python",
   "nbconvert_exporter": "python",
   "pygments_lexer": "ipython3",
   "version": "3.10.8"
  }
 },
 "nbformat": 4,
 "nbformat_minor": 5
}
